{
 "cells": [
  {
   "cell_type": "code",
   "execution_count": 3,
   "id": "b9a724ab-56a4-49da-9134-d54cd890497e",
   "metadata": {},
   "outputs": [],
   "source": [
    "from bs4 import BeautifulSoup\n",
    "import requests\n",
    "import pandas as pd\n",
    "from requests.packages.urllib3.exceptions import InsecureRequestWarning\n",
    "import random\n",
    "from datetime import datetime, timedelta"
   ]
  },
  {
   "cell_type": "code",
   "execution_count": 2,
   "id": "c616bdae-bca2-4e3e-85b7-4e7b1658574d",
   "metadata": {},
   "outputs": [],
   "source": [
    "url = 'https://www.decanter.com/wine-reviews/search/usa/page/1/3'"
   ]
  },
  {
   "cell_type": "code",
   "execution_count": 3,
   "id": "5e296bb2-d8d1-4e5c-af8e-c880bc2dae1e",
   "metadata": {},
   "outputs": [],
   "source": [
    "url_df = []\n",
    "\n",
    "def url_contructor(page_number, URL):\n",
    "    first = URL.split('page/', 1)[0]\n",
    "    second = URL.split('page/', 1)[1]\n",
    "    url = first + 'page/' + str(page_number) + second\n",
    "    url_df.append(url)"
   ]
  },
  {
   "cell_type": "code",
   "execution_count": 4,
   "id": "75b76c9b-282d-45dc-8b01-4de671a6aa44",
   "metadata": {},
   "outputs": [],
   "source": [
    "def pagination():\n",
    "    page = 0\n",
    "    URL = 'https://www.decanter.com/wine-reviews/search/usa/page/1/3'\n",
    "    for x in range(1, 10000):\n",
    "        try:\n",
    "            page += 1\n",
    "            url_contructor(page, URL)\n",
    "        except Exception:\n",
    "            print(Exception)"
   ]
  },
  {
   "cell_type": "code",
   "execution_count": 5,
   "id": "da90a6f2-1d41-4dc4-a5a4-294b856765b9",
   "metadata": {},
   "outputs": [],
   "source": [
    "wine_titles = []  # Initialize an empty list to store the titles\n",
    "\n",
    "def get_tittles_info(wine_divs):\n",
    "    # Extract the text from the <a> tags inside the divs\n",
    "    for div in wine_divs:\n",
    "        a_tag = div.find('h5')  # Find the <a> tag within the <div>\n",
    "        if a_tag:  # Check if <a> tag exists\n",
    "            # Use get_text with strip to clean the title\n",
    "            title = a_tag.get_text(strip=True)\n",
    "            if title:  # Ensure that the title is not empty\n",
    "                wine_titles.append(title)  # Append the cleaned title"
   ]
  },
  {
   "cell_type": "code",
   "execution_count": 6,
   "id": "bfab62fa",
   "metadata": {},
   "outputs": [],
   "source": [
    "# Extract the text from the <a> tags inside the divs\n",
    "wine_brands = []  # Initialize an empty list to store the titles\n",
    "\n",
    "def get_brands_info(wine_divs):\n",
    "    for div in wine_divs:\n",
    "        a_tag = div.find('h6')  # Find the <a> tag within the <div>\n",
    "        if a_tag:  # Check if <a> tag exists\n",
    "            # Use get_text with strip to clean the title\n",
    "            title = a_tag.get_text(strip=True)\n",
    "            if title:  # Ensure that the title is not empty\n",
    "                wine_brands.append(title)  # Append the cleaned title\n",
    "            else:\n",
    "                wine_brands.append('NaN')"
   ]
  },
  {
   "cell_type": "code",
   "execution_count": 7,
   "id": "f6496b93",
   "metadata": {},
   "outputs": [],
   "source": [
    "wine_locations = []\n",
    "\n",
    "def get_wineloc_info(wineLoc_divs):\n",
    "    for div in wineLoc_divs: \n",
    "        # Extract the text from each div directly, cleaning up any HTML tags and whitespace\n",
    "        title = div.get_text(strip=True)  # Get the text content of the div\n",
    "        if title:  # Check if the title is not empty\n",
    "            wine_locations.append(title)  # Append the cleaned title to the list\n",
    "        else:\n",
    "            wine_locations.append('NaN')  # Append 'NaN' if the text is empty\n"
   ]
  },
  {
   "cell_type": "code",
   "execution_count": 8,
   "id": "0da97ade",
   "metadata": {},
   "outputs": [],
   "source": [
    "wine_origins = []\n",
    "\n",
    "def get_wine_origins_info(wineOrigin_divs):\n",
    "    for div in wineOrigin_divs: \n",
    "        # Extract the text from each div directly, cleaning up any HTML tags and whitespace\n",
    "        title = div.get_text(strip=True)  # Get the text content of the div\n",
    "        if title:  # Check if the title is not empty\n",
    "            wine_origins.append(title)  # Append the cleaned title to the list\n",
    "        else:\n",
    "            wine_origins.append('NaN')  # Append 'NaN' if the text is empty"
   ]
  },
  {
   "cell_type": "code",
   "execution_count": 9,
   "id": "7cc05f5f",
   "metadata": {},
   "outputs": [],
   "source": [
    "wine_scores = []  \n",
    "\n",
    "def get_wine_scores_info(wineScore_divs, target_length):\n",
    "    for div in wineScore_divs: \n",
    "        # Extract the text from each div directly, cleaning up any HTML tags and whitespace\n",
    "        title = div.get_text(strip=True)  # Get the text content of the div\n",
    "        if title:  # Check if the title is not empty\n",
    "            wine_scores.append(title)  # Append the cleaned title to the list\n",
    "        else:\n",
    "            # Generate a random wine score between 80 and 100 for empty entries\n",
    "            random_value = round(random.uniform(80, 100), 1)\n",
    "            wine_scores.append(random_value)\n",
    "    \n",
    "    # Check if wine_scores has fewer entries than target_length\n",
    "    while len(wine_scores) < target_length:\n",
    "        # Append 'NaN' or a random score if there are fewer scores than expected\n",
    "        wine_scores.append('NaN')  # or use random_value if you prefer random values"
   ]
  },
  {
   "cell_type": "code",
   "execution_count": 10,
   "id": "5ee46977",
   "metadata": {},
   "outputs": [],
   "source": [
    "def main_execute():\n",
    "    # Suppress the warning\n",
    "    requests.packages.urllib3.disable_warnings(InsecureRequestWarning)\n",
    "    pagination()\n",
    "    \n",
    "    for link in url_df:\n",
    "        page = requests.get(link, verify=False)\n",
    "        soup = BeautifulSoup(page.text, 'html.parser')  # Changed to 'html.parser' for BeautifulSoup compatibility\n",
    "        \n",
    "        wine_divs = soup.find_all('div', class_='WineRow_wine-info__title-container__vJsPS')\n",
    "        get_tittles_info(wine_divs)\n",
    "        get_brands_info(wine_divs)\n",
    "        \n",
    "        wineLoc_divs = soup.find_all('div', class_='WineGeneral_--country__s8DLd WineGeneral_--region__MU4gI WineRow_wine-info__region__HL8R7')\n",
    "        get_wineloc_info(wineLoc_divs)\n",
    "        \n",
    "        wineOrigin_divs = soup.find_all('div', class_='WineGeneral_--appellation__WaeFi WineRow_wine-info__appellation__CoF7Z')\n",
    "        get_wine_origins_info(wineOrigin_divs)\n",
    "        \n",
    "        wineScore_divs = soup.find_all('div', class_='WineGeneral_--score__5wRg8')\n",
    "        \n",
    "        # Pass target length as len(wine_titles) to ensure consistency across lists\n",
    "        get_wine_scores_info(wineScore_divs, target_length=len(wine_titles))  \n"
   ]
  },
  {
   "cell_type": "code",
   "execution_count": null,
   "id": "d34c64a1-63bc-472c-a219-1a18579cbbbf",
   "metadata": {},
   "outputs": [],
   "source": [
    "main_execute()"
   ]
  },
  {
   "cell_type": "code",
   "execution_count": null,
   "id": "7c1b5a63",
   "metadata": {},
   "outputs": [],
   "source": [
    "print(wine_titles)"
   ]
  },
  {
   "cell_type": "code",
   "execution_count": null,
   "id": "0b2a1206",
   "metadata": {
    "scrolled": true
   },
   "outputs": [],
   "source": [
    "print(wine_brands)"
   ]
  },
  {
   "cell_type": "code",
   "execution_count": null,
   "id": "61fd4c37-613b-4632-847d-6c1eda0d490f",
   "metadata": {},
   "outputs": [],
   "source": [
    "print(wine_locations)"
   ]
  },
  {
   "cell_type": "code",
   "execution_count": null,
   "id": "d48970c4-b7fe-4e24-be16-23c2ec6c8ece",
   "metadata": {},
   "outputs": [],
   "source": [
    "print(wine_origins)"
   ]
  },
  {
   "cell_type": "code",
   "execution_count": null,
   "id": "540993c6-c751-4c27-aabb-f9b48d7152c7",
   "metadata": {},
   "outputs": [],
   "source": [
    "print(wine_scores)"
   ]
  },
  {
   "cell_type": "code",
   "execution_count": null,
   "id": "6d442f5a-7a57-483c-b075-4ff19c85c0f8",
   "metadata": {},
   "outputs": [],
   "source": [
    "# Generate random prices (e.g., between $10 and $100)\n",
    "wine_prices = [round(random.uniform(10, 100), 2) for _ in range(len(wine_titles))]"
   ]
  },
  {
   "cell_type": "code",
   "execution_count": null,
   "id": "9931782b-7a45-4100-aa90-078376c8302b",
   "metadata": {},
   "outputs": [],
   "source": [
    "# Predefined list of possible wine types\n",
    "wine_type_options = ['Red', 'White', 'Rosé', 'Sparkling', 'Dessert', 'Fortified']\n",
    "\n",
    "# Generate random wine types with the same length as wine_titles\n",
    "wine_types = random.choices(wine_type_options, k=len(wine_titles))"
   ]
  },
  {
   "cell_type": "code",
   "execution_count": null,
   "id": "61c54850",
   "metadata": {},
   "outputs": [],
   "source": []
  },
  {
   "cell_type": "code",
   "execution_count": null,
   "id": "d51c8302",
   "metadata": {},
   "outputs": [],
   "source": [
    "# Load the data\n",
    "file_path =\"C:\\\\Users\\\\***\\\\Desktop\\\\Honours\\\\COS736\\\\Wine_Resturants.csv\"\n",
    "df = pd.read_csv(file_path)\n"
   ]
  },
  {
   "cell_type": "code",
   "execution_count": 5,
   "id": "cbe352a8",
   "metadata": {},
   "outputs": [],
   "source": [
    "\n",
    "# Function to generate random opening and closing times\n",
    "def generate_time():\n",
    "    opening_time = random.choice([\"07:00\", \"07:30\", \"08:00\", \"08:30\", \"09:00\"])\n",
    "    closing_time = random.choice([\"17:00\", \"18:00\", \"19:00\", \"20:30\", \"21:00\"])\n",
    "    return opening_time, closing_time\n",
    "\n",
    "# Add 'Opening Time' and 'Closing Time' columns\n",
    "df['Opening Time'], df['Closing Time'] = zip(*[generate_time() for _ in range(len(df))])\n",
    "\n",
    "# Filter to only include California in the Location\n",
    "california_df = df[df['Location'].str.contains('California', case=False, na=False)]\n",
    "\n"
   ]
  },
  {
   "cell_type": "code",
   "execution_count": 6,
   "id": "c98f211d",
   "metadata": {},
   "outputs": [
    {
     "data": {
      "text/html": [
       "<div>\n",
       "<style scoped>\n",
       "    .dataframe tbody tr th:only-of-type {\n",
       "        vertical-align: middle;\n",
       "    }\n",
       "\n",
       "    .dataframe tbody tr th {\n",
       "        vertical-align: top;\n",
       "    }\n",
       "\n",
       "    .dataframe thead th {\n",
       "        text-align: right;\n",
       "    }\n",
       "</style>\n",
       "<table border=\"1\" class=\"dataframe\">\n",
       "  <thead>\n",
       "    <tr style=\"text-align: right;\">\n",
       "      <th></th>\n",
       "      <th>Resturant id</th>\n",
       "      <th>Wine Name</th>\n",
       "      <th>Wine Type</th>\n",
       "      <th>Wine Price</th>\n",
       "      <th>Company Name</th>\n",
       "      <th>Location</th>\n",
       "      <th>Tasting Score</th>\n",
       "      <th>Opening Time</th>\n",
       "      <th>Closing Time</th>\n",
       "    </tr>\n",
       "  </thead>\n",
       "  <tbody>\n",
       "    <tr>\n",
       "      <th>11</th>\n",
       "      <td>12</td>\n",
       "      <td>Tablas Creek</td>\n",
       "      <td>Fortified</td>\n",
       "      <td>96.88</td>\n",
       "      <td>Esprit Blanc de Tablas</td>\n",
       "      <td>California,USA</td>\n",
       "      <td>88.3</td>\n",
       "      <td>07:30</td>\n",
       "      <td>17:00</td>\n",
       "    </tr>\n",
       "    <tr>\n",
       "      <th>13</th>\n",
       "      <td>14</td>\n",
       "      <td>Saxum</td>\n",
       "      <td>Sparkling</td>\n",
       "      <td>47.68</td>\n",
       "      <td>Bone Rock Red, James Berry Vineyard</td>\n",
       "      <td>California,USA</td>\n",
       "      <td>83.6</td>\n",
       "      <td>07:30</td>\n",
       "      <td>18:00</td>\n",
       "    </tr>\n",
       "    <tr>\n",
       "      <th>14</th>\n",
       "      <td>15</td>\n",
       "      <td>Saxum</td>\n",
       "      <td>Sparkling</td>\n",
       "      <td>60.05</td>\n",
       "      <td>Bone Rock James Berry Vineyard Syrah</td>\n",
       "      <td>California,USA</td>\n",
       "      <td>97.1</td>\n",
       "      <td>08:30</td>\n",
       "      <td>17:00</td>\n",
       "    </tr>\n",
       "    <tr>\n",
       "      <th>29</th>\n",
       "      <td>30</td>\n",
       "      <td>Facets</td>\n",
       "      <td>Dessert</td>\n",
       "      <td>62.49</td>\n",
       "      <td>Cabernet Sauvignon</td>\n",
       "      <td>California,USA</td>\n",
       "      <td>88.5</td>\n",
       "      <td>07:00</td>\n",
       "      <td>20:30</td>\n",
       "    </tr>\n",
       "    <tr>\n",
       "      <th>160</th>\n",
       "      <td>161</td>\n",
       "      <td>Gemstone</td>\n",
       "      <td>Sparkling</td>\n",
       "      <td>75.84</td>\n",
       "      <td>Alluvial Selection Estate Cabernet Sauvignon</td>\n",
       "      <td>California,USA</td>\n",
       "      <td>99.6</td>\n",
       "      <td>08:00</td>\n",
       "      <td>21:00</td>\n",
       "    </tr>\n",
       "  </tbody>\n",
       "</table>\n",
       "</div>"
      ],
      "text/plain": [
       "     Resturant id     Wine Name  Wine Type  Wine Price  \\\n",
       "11             12  Tablas Creek  Fortified       96.88   \n",
       "13             14         Saxum  Sparkling       47.68   \n",
       "14             15         Saxum  Sparkling       60.05   \n",
       "29             30        Facets    Dessert       62.49   \n",
       "160           161      Gemstone  Sparkling       75.84   \n",
       "\n",
       "                                     Company Name        Location  \\\n",
       "11                         Esprit Blanc de Tablas  California,USA   \n",
       "13            Bone Rock Red, James Berry Vineyard  California,USA   \n",
       "14           Bone Rock James Berry Vineyard Syrah  California,USA   \n",
       "29                             Cabernet Sauvignon  California,USA   \n",
       "160  Alluvial Selection Estate Cabernet Sauvignon  California,USA   \n",
       "\n",
       "     Tasting Score Opening Time Closing Time  \n",
       "11            88.3        07:30        17:00  \n",
       "13            83.6        07:30        18:00  \n",
       "14            97.1        08:30        17:00  \n",
       "29            88.5        07:00        20:30  \n",
       "160           99.6        08:00        21:00  "
      ]
     },
     "execution_count": 6,
     "metadata": {},
     "output_type": "execute_result"
    }
   ],
   "source": [
    "california_df.head()"
   ]
  },
  {
   "cell_type": "code",
   "execution_count": 7,
   "id": "1eca5f9e",
   "metadata": {},
   "outputs": [],
   "source": [
    "# Save the filtered data to a new CSV file\n",
    "output_path = r\"C:\\Users\\Teboho\\Desktop\\Honours\\COS736\\California_Wine_Resturants.csv\"\n",
    "california_df.to_csv(output_path, index=False)\n",
    "\n"
   ]
  },
  {
   "cell_type": "code",
   "execution_count": 8,
   "id": "eee090e0",
   "metadata": {},
   "outputs": [
    {
     "name": "stdout",
     "output_type": "stream",
     "text": [
      "Filtered California data saved to C:\\Users\\Teboho\\Desktop\\Honours\\COS736\\California_Wine_Resturants.csv\n"
     ]
    }
   ],
   "source": [
    "print(\"Filtered California data saved to\", output_path)"
   ]
  },
  {
   "cell_type": "code",
   "execution_count": null,
   "id": "84e0d612",
   "metadata": {},
   "outputs": [],
   "source": [
    "# List of specific opening times\n",
    "opening_time_options = [\n",
    "    datetime.strptime(\"07:00\", \"%H:%M\"),\n",
    "    datetime.strptime(\"07:30\", \"%H:%M\"),\n",
    "    datetime.strptime(\"08:00\", \"%H:%M\"),\n",
    "    datetime.strptime(\"08:30\", \"%H:%M\"),\n",
    "    datetime.strptime(\"09:00\", \"%H:%M\")\n",
    "]\n",
    "\n",
    "# Generate random operating hours with specified opening times\n",
    "def random_open_close_times():\n",
    "    opening_time = random.choice(opening_time_options)  # Randomly select an opening time\n",
    "    closing_time = opening_time + timedelta(hours=random.randint(8, 14))  # Closing time 8-14 hours after opening\n",
    "    return opening_time.strftime(\"%H:%M\"), closing_time.strftime(\"%H:%M\")\n",
    "\n",
    "# Create lists for opening and closing times\n",
    "opening_times = []\n",
    "closing_times = []\n",
    "\n",
    "# Populate the opening and closing time lists\n",
    "for _ in range(len(wine_titles)):\n",
    "    open_time, close_time = random_open_close_times()\n",
    "    opening_times.append(open_time)\n",
    "    closing_times.append(close_time)"
   ]
  },
  {
   "cell_type": "code",
   "execution_count": null,
   "id": "3b7842a7",
   "metadata": {},
   "outputs": [],
   "source": [
    "print(\n",
    "    'Wine Name:', len(wine_titles),\n",
    "    'Wine Types:', len(wine_types),\n",
    "    'Wine Prices', len(wine_prices),\n",
    "    'Company Name:', len(wine_brands),\n",
    "    'Location:', len(wine_locations),\n",
    "    'Tasting Score:', len(wine_scores),\n",
    ")"
   ]
  },
  {
   "cell_type": "code",
   "execution_count": null,
   "id": "c6ea9ea1-17a8-4237-a2ab-9361e766e98d",
   "metadata": {},
   "outputs": [],
   "source": [
    "dfi = pd.DataFrame({\n",
    "    'Restaurant ID': range(1, len(wine_titles) + 1),\n",
    "    'Wine Name': wine_titles,\n",
    "    'Wine Type': wine_types,\n",
    "    'Wine Price': wine_prices,\n",
    "    'Company Name': wine_brands,\n",
    "    'Location': wine_locations,\n",
    "    'Tasting Score': wine_scores,\n",
    "    'Opening Time': opening_times,\n",
    "    'Closing Time': closing_times\n",
    "})\n"
   ]
  },
  {
   "cell_type": "code",
   "execution_count": null,
   "id": "edeacac2-50ae-4e46-9d29-861fcc5c6dfc",
   "metadata": {},
   "outputs": [],
   "source": [
    "# Display the DataFrame\n",
    "df.head()"
   ]
  },
  {
   "cell_type": "code",
   "execution_count": null,
   "id": "b79781c1",
   "metadata": {},
   "outputs": [],
   "source": [
    "# Filter DataFrame to include only rows where 'Location' contains 'California'\n",
    "california_wines = df[df['Location'].str.contains('California', case=False, na=False)]"
   ]
  },
  {
   "cell_type": "code",
   "execution_count": null,
   "id": "f4f4ce7f",
   "metadata": {},
   "outputs": [],
   "source": [
    "california_wines.head()"
   ]
  },
  {
   "cell_type": "code",
   "execution_count": null,
   "id": "8ee37d7b",
   "metadata": {},
   "outputs": [],
   "source": [
    "# Save the filtered DataFrame to a CSV file\n",
    "california_wines.to_csv('california_wines.csv', index=False)"
   ]
  },
  {
   "cell_type": "code",
   "execution_count": null,
   "id": "0f9fa681-ea9d-40d2-bdc7-969843323c49",
   "metadata": {},
   "outputs": [],
   "source": [
    "#df.to_csv('eWine_Resturants.csv', index = False)"
   ]
  },
  {
   "cell_type": "code",
   "execution_count": null,
   "id": "d8935ee1-ef83-4b53-9cdf-91114cfc4397",
   "metadata": {},
   "outputs": [],
   "source": []
  },
  {
   "cell_type": "code",
   "execution_count": null,
   "id": "a027e6e8-a471-4b4f-a161-8367272c6e18",
   "metadata": {},
   "outputs": [],
   "source": []
  },
  {
   "cell_type": "code",
   "execution_count": null,
   "id": "13050d92",
   "metadata": {},
   "outputs": [],
   "source": []
  }
 ],
 "metadata": {
  "kernelspec": {
   "display_name": "Python 3 (ipykernel)",
   "language": "python",
   "name": "python3"
  },
  "language_info": {
   "codemirror_mode": {
    "name": "ipython",
    "version": 3
   },
   "file_extension": ".py",
   "mimetype": "text/x-python",
   "name": "python",
   "nbconvert_exporter": "python",
   "pygments_lexer": "ipython3",
   "version": "3.11.5"
  }
 },
 "nbformat": 4,
 "nbformat_minor": 5
}
