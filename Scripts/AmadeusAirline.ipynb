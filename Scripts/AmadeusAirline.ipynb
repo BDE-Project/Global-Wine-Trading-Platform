{
 "cells": [
  {
   "cell_type": "code",
   "execution_count": 1,
   "id": "c80003ef-ddcb-4975-843a-da529eef2eaa",
   "metadata": {},
   "outputs": [],
   "source": [
    "import requests\n",
    "import json\n",
    "import csv\n",
    "import time\n",
    "import threading"
   ]
  },
  {
   "cell_type": "code",
   "execution_count": 2,
   "id": "5ed40429-ee6d-4020-a9b3-0978488d4220",
   "metadata": {},
   "outputs": [],
   "source": [
    "# Define the API keys and CSV file path\n",
    "api_key = \"\"\n",
    "api_secret = \"\"\n",
    "csv_file_path = \"flight_data.csv\""
   ]
  },
  {
   "cell_type": "code",
   "execution_count": 3,
   "id": "ee3f381a-5216-4556-a928-5d7e33fb3c76",
   "metadata": {},
   "outputs": [],
   "source": [
    "# Function to get OAuth Token\n",
    "def get_access_token():\n",
    "    url = \"https://test.api.amadeus.com/v1/security/oauth2/token\"\n",
    "    data = {\n",
    "        \"grant_type\": \"client_credentials\",\n",
    "        \"client_id\": api_key,\n",
    "        \"client_secret\": api_secret\n",
    "    }\n",
    "    response = requests.post(url, data=data, verify=False)  # Disable SSL verification\n",
    "    token_response = response.json()\n",
    "    return token_response[\"access_token\"]\n"
   ]
  },
  {
   "cell_type": "code",
   "execution_count": 4,
   "id": "f8aac69e-a35a-4ee9-8bd4-f3dc7fba0a73",
   "metadata": {},
   "outputs": [],
   "source": [
    "# Function to fetch flight destination data\n",
    "def fetch_and_save_flight_data():\n",
    "    token = get_access_token()\n",
    "    headers = {\n",
    "        \"Authorization\": f\"Bearer {token}\"\n",
    "    }\n",
    "    api_url = \"https://test.api.amadeus.com/v1/shopping/flight-destinations?origin=PAR\"\n",
    "    response = requests.get(api_url, headers=headers, verify=False)  # Disable SSL verification\n",
    "    flight_data = response.json()\n",
    "    save_to_csv(flight_data)\n"
   ]
  },
  {
   "cell_type": "code",
   "execution_count": 5,
   "id": "bec7e496-ad2d-4d9b-9eaf-e9874c38f905",
   "metadata": {},
   "outputs": [],
   "source": [
    "# Function to save flight data to CSV\n",
    "def save_to_csv(flight_response):\n",
    "    file_exists = False\n",
    "    try:\n",
    "        # Check if the CSV file exists\n",
    "        file_exists = open(csv_file_path).close()\n",
    "    except:\n",
    "        pass\n",
    "\n",
    "    with open(csv_file_path, 'a', newline='', encoding='utf-8') as csvfile:\n",
    "        fieldnames = [\"Origin\", \"Destination\", \"DepartureDate\", \"ReturnDate\", \"Price\"]\n",
    "        writer = csv.DictWriter(csvfile, fieldnames=fieldnames)\n",
    "\n",
    "        # Write header only if file is new\n",
    "        if not file_exists:\n",
    "            writer.writeheader()\n",
    "\n",
    "        # Write flight data\n",
    "        for flight in flight_response[\"data\"]:\n",
    "            writer.writerow({\n",
    "                \"Origin\": flight[\"origin\"],\n",
    "                \"Destination\": flight[\"destination\"],\n",
    "                \"DepartureDate\": flight[\"departureDate\"],\n",
    "                \"ReturnDate\": flight[\"returnDate\"],\n",
    "                \"Price\": flight[\"price\"][\"total\"]\n",
    "            })\n",
    "\n",
    "    print(f\"Data saved to {csv_file_path} at {time.ctime()}\")\n"
   ]
  },
  {
   "cell_type": "code",
   "execution_count": 6,
   "id": "31ee20c7-e63e-41d5-a7d6-b9dd821f9352",
   "metadata": {},
   "outputs": [],
   "source": [
    "# Function to run the data fetching periodically (every 2 minutes)\n",
    "def start_scheduler(interval_minutes=2):\n",
    "    while True:\n",
    "        fetch_and_save_flight_data()\n",
    "        time.sleep(interval_minutes * 60)  # Sleep for 2 minutes\n"
   ]
  },
  {
   "cell_type": "code",
   "execution_count": null,
   "id": "25ffd48e-b1bd-4bf0-9030-a1c2afd43f31",
   "metadata": {},
   "outputs": [],
   "source": [
    "# Start the process in a background thread so that it runs every 2 minutes\n",
    "thread = threading.Thread(target=start_scheduler)\n",
    "thread.start()\n",
    "\n",
    "# In Jupyter, this will allow you to stop the background task by interrupting the kernel when needed\n",
    "print(\"Fetching flight data every 2 minutes... Press stop (interrupt the kernel) to stop.\")"
   ]
  }
 ],
 "metadata": {
  "kernelspec": {
   "display_name": "Python 3 (ipykernel)",
   "language": "python",
   "name": "python3"
  },
  "language_info": {
   "codemirror_mode": {
    "name": "ipython",
    "version": 3
   },
   "file_extension": ".py",
   "mimetype": "text/x-python",
   "name": "python",
   "nbconvert_exporter": "python",
   "pygments_lexer": "ipython3",
   "version": "3.11.5"
  }
 },
 "nbformat": 4,
 "nbformat_minor": 5
}
